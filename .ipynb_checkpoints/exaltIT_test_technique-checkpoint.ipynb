{
 "cells": [
  {
   "cell_type": "markdown",
   "id": "a3938fe0",
   "metadata": {},
   "source": [
    "#### Sujet\n",
    "Créer un pipeline ***ETL (Extract, Transform, Load)*** permettant de traiter les données de ***l'API flightradar24***, qui répertorie l'ensemble des ***vols aériens, aéroports, compagnies aériennes mondiales***."
   ]
  },
  {
   "cell_type": "markdown",
   "id": "cb6e55c0",
   "metadata": {},
   "source": [
    "#### Résultats\n",
    "Ce pipeline doit permettre de fournir les indicateurs suivants:\n",
    "\n",
    "- La compagnie avec le + de vols en cours\n",
    "- Pour chaque continent, la compagnie avec le + de vols régionaux actifs (continent d'origine == continent de destination)\n",
    "- Le vol en cours avec le trajet le plus long\n",
    "- Pour chaque continent, la longueur de vol moyenne\n",
    "- L'entreprise constructeur d'avions avec le plus de vols actifs\n",
    "- Pour chaque pays de compagnie aérienne, le top 3 des modèles d'avion en usage"
   ]
  }
 ],
 "metadata": {
  "kernelspec": {
   "display_name": "Python 3",
   "language": "python",
   "name": "python3"
  },
  "language_info": {
   "codemirror_mode": {
    "name": "ipython",
    "version": 3
   },
   "file_extension": ".py",
   "mimetype": "text/x-python",
   "name": "python",
   "nbconvert_exporter": "python",
   "pygments_lexer": "ipython3",
   "version": "3.8.8"
  }
 },
 "nbformat": 4,
 "nbformat_minor": 5
}
